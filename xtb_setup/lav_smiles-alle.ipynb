{
 "cells": [
  {
   "cell_type": "code",
   "execution_count": 1,
   "metadata": {},
   "outputs": [],
   "source": [
    "from rdkit import Chem\n",
    "from rdkit.Chem import rdMolDescriptors\n",
    "from rdkit.Chem import Descriptors\n",
    "from rdkit.Chem import Draw\n",
    "from rdkit.Chem.Draw import IPythonConsole"
   ]
  },
  {
   "cell_type": "code",
   "execution_count": 2,
   "metadata": {},
   "outputs": [],
   "source": [
    "import pandas as pd"
   ]
  },
  {
   "cell_type": "code",
   "execution_count": 3,
   "metadata": {},
   "outputs": [],
   "source": [
    "subs = [\"\", \"([N+]([O-])=O)\", \"(C#N)\", \"(C=O)\", \"([Cl])\", \"([F])\", \"(C=C(C#N)(C#N))\", \"(OCC)\", \"(C)\"]\n",
    "subs_c1 = [\"\", \"N#C\", \"O=C\", \"[Cl]\", \"F\", \"N#C/C(C#N)=C/\", \"CCO\", \"C\"]"
   ]
  },
  {
   "cell_type": "code",
   "execution_count": 3,
   "metadata": {},
   "outputs": [],
   "source": [
    "new_subs = [\"\", \"(C#N)\", \"(C=O)\", \"([Cl])\", \"([F])\", \"(C=C(C#N)(C#N))\", \"(OCC)\", \"(C)\",\"([N+]([O-])=O)\"]\n",
    "new_subs_c1 = [\"\", \"N#C\", \"O=C\", \"[Cl]\", \"F\", \"N#C/C(C#N)=C/\", \"CCO\", \"C\"]"
   ]
  },
  {
   "cell_type": "code",
   "execution_count": 94,
   "metadata": {},
   "outputs": [],
   "source": [
    "ph_subs = []\n",
    "ph_names = []\n",
    "ph_1 = \"(C2=C\"\n",
    "ph_2 = \"C\"\n",
    "ph_3 = \"=C\"\n",
    "ph_4 = \"C\"\n",
    "ph_5 = \"=C2\"\n",
    "ph_6 = \")\"\n",
    "for x in range(len(new_subs)):\n",
    "  for y in range(len(new_subs)):\n",
    "    for z in range(len(new_subs)):\n",
    "      for i in range(len(new_subs)):\n",
    "        for j in range(len(new_subs)):\n",
    "          if i >= y:\n",
    "            if j >= x:\n",
    "              ph_list = [x,y,z,i,j]\n",
    "              if ph_list.count(0)>=2:\n",
    "                ph_subs.append(f\"{ph_1}{new_subs[x]}{ph_2}{new_subs[y]}{ph_3}{new_subs[z]}{ph_4}{new_subs[i]}{ph_5}{new_subs[j]}{ph_6}\")\n",
    "                ph_names.append(f\"e{x}_f{y}_g{z}_h{i}_i{j}\")\n",
    "#               if x==0 and y==0:  \n",
    "#                 ph_subs.append(f\"{ph_1}{new_subs[x]}{ph_2}{new_subs[y]}{ph_3}{new_subs[z]}{ph_4}{new_subs[i]}{ph_5}{new_subs[j]}{ph_6}\")\n",
    "#                 ph_names.append(f\"e{x}_f{y}_g{z}_h{i}_i{j}\")\n",
    "#                 continue\n",
    "#               if x==0 and z==0:\n",
    "#                 ph_subs.append(f\"{ph_1}{new_subs[x]}{ph_2}{new_subs[y]}{ph_3}{new_subs[z]}{ph_4}{new_subs[i]}{ph_5}{new_subs[j]}{ph_6}\")\n",
    "#                 ph_names.append(f\"e{x}_f{y}_g{z}_h{i}_i{j}\")\n",
    "#                 continue\n",
    "#               if x==0 and i==0:\n",
    "#                 ph_subs.append(f\"{ph_1}{new_subs[x]}{ph_2}{new_subs[y]}{ph_3}{new_subs[z]}{ph_4}{new_subs[i]}{ph_5}{new_subs[j]}{ph_6}\")\n",
    "#                 ph_names.append(f\"e{x}_f{y}_g{z}_h{i}_i{j}\")\n",
    "#                 continue\n",
    "#               if x==0 and j==0:\n",
    "#                 ph_subs.append(f\"{ph_1}{new_subs[x]}{ph_2}{new_subs[y]}{ph_3}{new_subs[z]}{ph_4}{new_subs[i]}{ph_5}{new_subs[j]}{ph_6}\")\n",
    "#                 ph_names.append(f\"e{x}_f{y}_g{z}_h{i}_i{j}\")\n",
    "#                 continue\n",
    "#               if y==0 and z==0:\n",
    "#                 ph_subs.append(f\"{ph_1}{new_subs[x]}{ph_2}{new_subs[y]}{ph_3}{new_subs[z]}{ph_4}{new_subs[i]}{ph_5}{new_subs[j]}{ph_6}\")\n",
    "#                 ph_names.append(f\"e{x}_f{y}_g{z}_h{i}_i{j}\")\n",
    "#                 continue\n",
    "#               if y==0 and i==0:\n",
    "#                 ph_subs.append(f\"{ph_1}{new_subs[x]}{ph_2}{new_subs[y]}{ph_3}{new_subs[z]}{ph_4}{new_subs[i]}{ph_5}{new_subs[j]}{ph_6}\")\n",
    "#                 ph_names.append(f\"e{x}_f{y}_g{z}_h{i}_i{j}\")\n",
    "#                 continue\n",
    "#               if y==0 and j==0:\n",
    "#                 ph_subs.append(f\"{ph_1}{new_subs[x]}{ph_2}{new_subs[y]}{ph_3}{new_subs[z]}{ph_4}{new_subs[i]}{ph_5}{new_subs[j]}{ph_6}\")\n",
    "#                 ph_names.append(f\"e{x}_f{y}_g{z}_h{i}_i{j}\")\n",
    "#                 continue\n",
    "#               if z==0 and i==0:\n",
    "#                 ph_subs.append(f\"{ph_1}{new_subs[x]}{ph_2}{new_subs[y]}{ph_3}{new_subs[z]}{ph_4}{new_subs[i]}{ph_5}{new_subs[j]}{ph_6}\")\n",
    "#                 ph_names.append(f\"e{x}_f{y}_g{z}_h{i}_i{j}\")\n",
    "#                 continue\n",
    "#               if z==0 and j==0:\n",
    "#                 ph_subs.append(f\"{ph_1}{new_subs[x]}{ph_2}{new_subs[y]}{ph_3}{new_subs[z]}{ph_4}{new_subs[i]}{ph_5}{new_subs[j]}{ph_6}\")\n",
    "#                 ph_names.append(f\"e{x}_f{y}_g{z}_h{i}_i{j}\")\n",
    "#                 continue\n",
    "#               if i==0 and j==0:\n",
    "#                 ph_subs.append(f\"{ph_1}{new_subs[x]}{ph_2}{new_subs[y]}{ph_3}{new_subs[z]}{ph_4}{new_subs[i]}{ph_5}{new_subs[j]}{ph_6}\")\n",
    "#                 ph_names.append(f\"e{x}_f{y}_g{z}_h{i}_i{j}\")\n",
    "#                 continue"
   ]
  },
  {
   "cell_type": "code",
   "execution_count": 95,
   "metadata": {},
   "outputs": [
    {
     "name": "stdout",
     "output_type": "stream",
     "text": [
      "1953\n"
     ]
    }
   ],
   "source": [
    "print(len(ph_subs))"
   ]
  },
  {
   "cell_type": "code",
   "execution_count": 32,
   "metadata": {},
   "outputs": [
    {
     "data": {
      "image/png": "[encoded data removed]",
      "text/plain": [
       "<rdkit.Chem.rdchem.Mol at 0x232f9a72c10>"
      ]
     },
     "execution_count": 32,
     "metadata": {},
     "output_type": "execute_result"
    }
   ],
   "source": [
    "smile = f\"{str_1}{ph_1}{ph_2}{ph_3}{ph_4}{ph_5}{ph_6}{str_2}{str_3}{str_4}{my_dict['bod_c']}\"\n",
    "# print(smile)\n",
    "nmol = Chem.RemoveHs(Chem.MolFromSmiles(smile))\n",
    "Chem.MolFromSmiles(Chem.MolToSmiles(nmol))"
   ]
  },
  {
   "cell_type": "code",
   "execution_count": 4,
   "metadata": {},
   "outputs": [],
   "source": [
    "#strings for BOD\n",
    "str_1 = \"C1=C(C2=C\"\n",
    "str_2 = \"C=C\"\n",
    "str_3 = \"C=C2\"\n",
    "str_4 = \")C3C=CC1CC3\"\n",
    "### N#CC1=C(C2=CC=C([N+]([O-])=O)C=C2)[C@H]3C=C[C@@H]1C3"
   ]
  },
  {
   "cell_type": "code",
   "execution_count": 66,
   "metadata": {},
   "outputs": [],
   "source": [
    "#strings for bod_1m2 \"CC1C2C=CC(C1)C=C2\"\n",
    "str_1 = \"C1=C(C2=C\"\n",
    "str_2 = \"C=C\"\n",
    "str_3 = \"C=C2\"\n",
    "str_4 = \")C3C=CC1CC3(C)\" #this c in paranthesis is the c on the bridge"
   ]
  },
  {
   "cell_type": "code",
   "execution_count": 83,
   "metadata": {},
   "outputs": [],
   "source": [
    "#strings for bod_1e2 \"CC1C2C=CC(C1)C=C2\"\n",
    "str_1 = \"C1=C(C2=C\"\n",
    "str_2 = \"C=C\"\n",
    "str_3 = \"C=C2\"\n",
    "str_4 = \")C3C=CC1CC3(CC)\" #this c in paranthesis is the c on the bridge"
   ]
  },
  {
   "cell_type": "code",
   "execution_count": 5,
   "metadata": {},
   "outputs": [],
   "source": [
    "#strings for bod_c \"CC1C2C=CC(C1)C=C2\"\n",
    "str_1 = \"C1=C(C2=C\"\n",
    "str_2 = \"C=C\"\n",
    "str_3 = \"C=C2\"\n",
    "str_4 = \")C3C=CC1C(O4)C34\" #this o in paranthesis is the c on the bridge"
   ]
  },
  {
   "cell_type": "code",
   "execution_count": null,
   "metadata": {},
   "outputs": [],
   "source": [
    "#strings for bod_ph \"CC1C2C=CC(C1)C=C2\"\n",
    "str_1 = \"C1=C(C2=C\"\n",
    "str_2 = \"C=C\"\n",
    "str_3 = \"C=C2\"\n",
    "str_4 = \")C3C=CC1C(O4)C34\" #this o in paranthesis is the c on the bridge"
   ]
  },
  {
   "cell_type": "code",
   "execution_count": 4,
   "metadata": {},
   "outputs": [],
   "source": [
    "systems = [\"nbd\", \"bod_a\", \"bod_1m1\", \"bod_1m2\", \"bod_2m\", \"bod_1e1\", \"bod_1e2\", \"bod_c\", \"bod_n\" ,\"bod_o\"]"
   ]
  },
  {
   "cell_type": "code",
   "execution_count": 5,
   "metadata": {},
   "outputs": [],
   "source": [
    "my_dict = {\"nbd\":\"3\",\n",
    "          \"bod_a\":\"C3\",\n",
    "          \"bod_1m1\":\"(C)C3\",\n",
    "          \"bod_1m2\":\"C3(C)\",\n",
    "          \"bod_2m\":\"(C)C3(C)\",\n",
    "          \"bod_1e1\":\"(CC)C3\",\n",
    "          \"bod_1e2\":\"C3(CC)\",\n",
    "          \"bod_c\":\"(C4)C34\",\n",
    "          \"bod_n\":\"(N4)C34\",\n",
    "          \"bod_o\":\"(O4)C34\"}"
   ]
  },
  {
   "cell_type": "code",
   "execution_count": 8,
   "metadata": {},
   "outputs": [],
   "source": [
    "#strings for all nbd and bod\n",
    "str_1 = \"C1=C\"\n",
    "str_2 = \"C3C\"\n",
    "str_3 = \"=C\"\n",
    "str_4 = \"C1C\"\n"
   ]
  },
  {
   "cell_type": "code",
   "execution_count": 41,
   "metadata": {},
   "outputs": [
    {
     "data": {
      "image/png": "[encoded data removed]",
      "text/plain": [
       "<rdkit.Chem.rdchem.Mol at 0x232f9b4ecb0>"
      ]
     },
     "execution_count": 41,
     "metadata": {},
     "output_type": "execute_result"
    }
   ],
   "source": [
    "smile = f\"{str_1}{str_2}{str_3}{str_4}{my_dict['bod_c']}\"\n",
    "nmol = Chem.RemoveHs(Chem.MolFromSmiles(smile))\n",
    "Chem.MolFromSmiles(Chem.MolToSmiles(nmol))"
   ]
  },
  {
   "cell_type": "code",
   "execution_count": 141,
   "metadata": {},
   "outputs": [
    {
     "name": "stdout",
     "output_type": "stream",
     "text": [
      "196.249\n"
     ]
    }
   ],
   "source": [
    "mw = Descriptors.MolWt(Chem.MolFromSmiles(smile))\n",
    "print(mw)"
   ]
  },
  {
   "cell_type": "code",
   "execution_count": 142,
   "metadata": {
    "scrolled": true
   },
   "outputs": [
    {
     "name": "stdout",
     "output_type": "stream",
     "text": [
      "C1=C(C2=CC=CC=C2)C3C=CC1C(O4)C34\n"
     ]
    }
   ],
   "source": [
    "print(smile)\n"
   ]
  },
  {
   "cell_type": "code",
   "execution_count": 7,
   "metadata": {},
   "outputs": [
    {
     "data": {
      "image/png": "[encoded data removed]",
      "text/plain": [
       "<rdkit.Chem.rdchem.Mol at 0x20c2c7aeee0>"
      ]
     },
     "execution_count": 7,
     "metadata": {},
     "output_type": "execute_result"
    }
   ],
   "source": [
    "nmol = Chem.RemoveHs(Chem.MolFromSmiles(smile))\n",
    "Chem.MolFromSmiles(Chem.MolToSmiles(nmol))"
   ]
  },
  {
   "cell_type": "code",
   "execution_count": 144,
   "metadata": {},
   "outputs": [
    {
     "data": {
      "text/plain": [
       "'C1=CC2C(c3ccccc3)=CC1C1OC21'"
      ]
     },
     "execution_count": 144,
     "metadata": {},
     "output_type": "execute_result"
    }
   ],
   "source": [
    "Chem.MolToSmiles(nmol)"
   ]
  },
  {
   "cell_type": "code",
   "execution_count": 90,
   "metadata": {},
   "outputs": [],
   "source": [
    "mols = []\n",
    "names = []\n",
    "smiles = []"
   ]
  },
  {
   "cell_type": "code",
   "execution_count": 91,
   "metadata": {
    "scrolled": true
   },
   "outputs": [
    {
     "name": "stdout",
     "output_type": "stream",
     "text": [
      "2360\n"
     ]
    }
   ],
   "source": [
    "#new for all\n",
    "for system in systems:\n",
    "  for x in range(len(new_subs_c1)):\n",
    "    for y in range(len(new_subs)):\n",
    "      for z in range(len(new_subs)):\n",
    "        for i in range(len(new_subs)):\n",
    "          if i >= y:\n",
    "            first_list = [x,y,z,i]\n",
    "            if first_list.count(0) >=2: \n",
    "              mols.append(f\"{new_subs_c1[x]}{str_1}{new_subs[y]}{str_2}{new_subs[z]}{str_3}{new_subs[i]}{str_4}{my_dict[system]}\")\n",
    "              names.append(f\"{system}_a{x}_b{y}_c{z}_d{i}\")\n",
    "print(len(mols))\n",
    "for system in systems:\n",
    "    for x in range(len(new_subs_c1)):\n",
    "        for y in range(len(ph_subs)):\n",
    "            for z in range(len(new_subs)):\n",
    "                for i in range(len(new_subs)):\n",
    "                    check_list = [x,y,z,i]\n",
    "                    \n",
    "                    if check_list.count(0) >= 2:\n",
    "                        mols.append(f\"{new_subs_c1[x]}{str_1}{ph_subs[y]}{str_2}{new_subs[z]}{str_3}{new_subs[i]}{str_4}{my_dict[system]}\")\n",
    "                        names.append(f\"{system}_a{x}_bp{y}_c{z}_d{i}\")"
   ]
  },
  {
   "cell_type": "code",
   "execution_count": 82,
   "metadata": {
    "scrolled": true
   },
   "outputs": [
    {
     "name": "stdout",
     "output_type": "stream",
     "text": [
      "472840\n"
     ]
    }
   ],
   "source": [
    "print(len(mols))"
   ]
  },
  {
   "cell_type": "code",
   "execution_count": 89,
   "metadata": {},
   "outputs": [
    {
     "name": "stdout",
     "output_type": "stream",
     "text": [
      "True\n"
     ]
    },
    {
     "data": {
      "text/plain": [
       "1"
      ]
     },
     "execution_count": 89,
     "metadata": {},
     "output_type": "execute_result"
    }
   ],
   "source": [
    "check_list = [0,100,20,1,10]\n",
    "if set([0,0]).issubset( check_list ):\n",
    "    print(\"True\")\n",
    "all(x in check_list for x in [0, 0])\n",
    "check_list.count(0)"
   ]
  },
  {
   "cell_type": "code",
   "execution_count": 48,
   "metadata": {},
   "outputs": [
    {
     "ename": "NameError",
     "evalue": "name 'subs_c1' is not defined",
     "output_type": "error",
     "traceback": [
      "\u001b[1;31m---------------------------------------------------------------------------\u001b[0m",
      "\u001b[1;31mNameError\u001b[0m                                 Traceback (most recent call last)",
      "\u001b[1;32m<ipython-input-48-c86469eb8f71>\u001b[0m in \u001b[0;36m<module>\u001b[1;34m\u001b[0m\n\u001b[1;32m----> 1\u001b[1;33m \u001b[1;32mfor\u001b[0m \u001b[0mx\u001b[0m \u001b[1;32min\u001b[0m \u001b[0mrange\u001b[0m\u001b[1;33m(\u001b[0m\u001b[0mlen\u001b[0m\u001b[1;33m(\u001b[0m\u001b[0msubs_c1\u001b[0m\u001b[1;33m)\u001b[0m\u001b[1;33m)\u001b[0m\u001b[1;33m:\u001b[0m\u001b[1;33m\u001b[0m\u001b[1;33m\u001b[0m\u001b[0m\n\u001b[0m\u001b[0;32m      2\u001b[0m   \u001b[1;32mfor\u001b[0m \u001b[0my\u001b[0m \u001b[1;32min\u001b[0m \u001b[0mrange\u001b[0m\u001b[1;33m(\u001b[0m\u001b[1;36m9\u001b[0m\u001b[1;33m)\u001b[0m\u001b[1;33m:\u001b[0m\u001b[1;33m\u001b[0m\u001b[1;33m\u001b[0m\u001b[0m\n\u001b[0;32m      3\u001b[0m     \u001b[1;32mfor\u001b[0m \u001b[0mz\u001b[0m \u001b[1;32min\u001b[0m \u001b[0mrange\u001b[0m\u001b[1;33m(\u001b[0m\u001b[1;36m9\u001b[0m\u001b[1;33m)\u001b[0m\u001b[1;33m:\u001b[0m\u001b[1;33m\u001b[0m\u001b[1;33m\u001b[0m\u001b[0m\n\u001b[0;32m      4\u001b[0m       \u001b[1;32mfor\u001b[0m \u001b[0mi\u001b[0m \u001b[1;32min\u001b[0m \u001b[0mrange\u001b[0m\u001b[1;33m(\u001b[0m\u001b[1;36m9\u001b[0m\u001b[1;33m)\u001b[0m\u001b[1;33m:\u001b[0m\u001b[1;33m\u001b[0m\u001b[1;33m\u001b[0m\u001b[0m\n\u001b[0;32m      5\u001b[0m         \u001b[1;32mif\u001b[0m \u001b[0mi\u001b[0m \u001b[1;33m>=\u001b[0m \u001b[0my\u001b[0m\u001b[1;33m:\u001b[0m\u001b[1;33m\u001b[0m\u001b[1;33m\u001b[0m\u001b[0m\n",
      "\u001b[1;31mNameError\u001b[0m: name 'subs_c1' is not defined"
     ]
    }
   ],
   "source": [
    "for x in range():\n",
    "  for y in range(9):\n",
    "    for z in range(9):\n",
    "      for i in range(9):\n",
    "        if i >= y:\n",
    "          mols.append(f\"{subs_c1[x]}{str_1}{subs[y]}{str_2}{subs[z]}{str_3}{subs[i]}{str_4}\")\n",
    "          names.append(f\"a{x}_b{y}_c{z}_d{i}\")\n",
    "          if x == 0 and y == 2 and z == 3 and i == 4:\n",
    "            print(len(mols))"
   ]
  },
  {
   "cell_type": "code",
   "execution_count": 43,
   "metadata": {},
   "outputs": [
    {
     "name": "stdout",
     "output_type": "stream",
     "text": [
      "32400\n"
     ]
    }
   ],
   "source": [
    "print(len(mols))"
   ]
  },
  {
   "cell_type": "code",
   "execution_count": 47,
   "metadata": {},
   "outputs": [
    {
     "data": {
      "image/png": "[encoded data removed]",
      "text/plain": [
       "<rdkit.Chem.rdchem.Mol at 0x2a7a3b803f0>"
      ]
     },
     "execution_count": 47,
     "metadata": {},
     "output_type": "execute_result"
    }
   ],
   "source": [
    "smiles = mols[4444]\n",
    "mol = Chem.MolFromSmiles(smiles)\n",
    "mol"
   ]
  },
  {
   "cell_type": "code",
   "execution_count": 149,
   "metadata": {
    "scrolled": true
   },
   "outputs": [
    {
     "name": "stdout",
     "output_type": "stream",
     "text": [
      "C1=C(C2=CC=CC=C2)C3C=CC1C(O4)C34\n"
     ]
    }
   ],
   "source": [
    "print(mols[0])"
   ]
  },
  {
   "cell_type": "code",
   "execution_count": 3,
   "metadata": {},
   "outputs": [
    {
     "data": {
      "image/png": "[encoded data removed]",
      "text/plain": [
       "<rdkit.Chem.rdchem.Mol at 0x1cb529aa850>"
      ]
     },
     "execution_count": 3,
     "metadata": {},
     "output_type": "execute_result"
    }
   ],
   "source": [
    "mol = Chem.MolFromSmiles(\"O=C(OCC)C12C(CC3)C1C4C3C24C5=CC=C(C6=C(C(OCC)=O)C7C=CC6CC7)C=C5\")\n",
    "mol"
   ]
  },
  {
   "cell_type": "code",
   "execution_count": 6,
   "metadata": {},
   "outputs": [
    {
     "data": {
      "text/plain": [
       "'CCOC(=O)C1=C(c2ccc(C34C5CCC6C(C53)C64C(=O)OCC)cc2)C2C=CC1CC2'"
      ]
     },
     "execution_count": 6,
     "metadata": {},
     "output_type": "execute_result"
    }
   ],
   "source": [
    "mol = Chem.MolToSmiles(Chem.RemoveHs((Chem.MolFromSmiles(\"O=C(OCC)C12C(CC3)C1C4C3C24C5=CC=C(C6=C(C(OCC)=O)C7C=CC6CC7)C=C5\"))))\n",
    "Chem.MolFromSmiles(mol)\n",
    "mol"
   ]
  },
  {
   "cell_type": "code",
   "execution_count": 72,
   "metadata": {},
   "outputs": [],
   "source": [
    "new_mols = []"
   ]
  },
  {
   "cell_type": "code",
   "execution_count": 73,
   "metadata": {
    "scrolled": true
   },
   "outputs": [],
   "source": [
    "for number in range(len(mols)):\n",
    "    new_mols.append(Chem.MolToSmiles(Chem.RemoveHs((Chem.MolFromSmiles(mols[number])))))"
   ]
  },
  {
   "cell_type": "code",
   "execution_count": 79,
   "metadata": {},
   "outputs": [
    {
     "name": "stdout",
     "output_type": "stream",
     "text": [
      "CCOC1=CC2C=CC1CC2CC\n"
     ]
    }
   ],
   "source": [
    "print(new_mols[1234])"
   ]
  },
  {
   "cell_type": "code",
   "execution_count": 19,
   "metadata": {},
   "outputs": [],
   "source": [
    "df = pd.DataFrame(mols)"
   ]
  },
  {
   "cell_type": "code",
   "execution_count": 20,
   "metadata": {},
   "outputs": [],
   "source": [
    "df.to_csv(\"bod_0.csv\")"
   ]
  },
  {
   "cell_type": "code",
   "execution_count": 80,
   "metadata": {},
   "outputs": [],
   "source": [
    "df2 = pd.DataFrame()\n",
    "df2[\"names\"] = names\n",
    "df2[\"smiles\"] = new_mols"
   ]
  },
  {
   "cell_type": "code",
   "execution_count": 153,
   "metadata": {},
   "outputs": [],
   "source": [
    "df2 = pd.DataFrame()\n",
    "df2[\"comp_name\"] = [\"bod_1m2_\"+x for x in names]\n",
    "df2[\"smiles\"] = new_mols\n",
    "df2[\"charge\"] = [\"0\" for x in new_mols]\n",
    "df2[\"multiplicity\"] = [\"1\" for x in new_mols]"
   ]
  },
  {
   "cell_type": "code",
   "execution_count": 81,
   "metadata": {},
   "outputs": [],
   "source": [
    "df2.to_csv(\"../excel/bod_nbd_alle.csv\",index = False)"
   ]
  }
 ],
 "metadata": {
  "kernelspec": {
   "display_name": "Python 3",
   "language": "python",
   "name": "python3"
  },
  "language_info": {
   "codemirror_mode": {
    "name": "ipython",
    "version": 3
   },
   "file_extension": ".py",
   "mimetype": "text/x-python",
   "name": "python",
   "nbconvert_exporter": "python",
   "pygments_lexer": "ipython3",
   "version": "3.7.4"
  }
 },
 "nbformat": 4,
 "nbformat_minor": 4
}
